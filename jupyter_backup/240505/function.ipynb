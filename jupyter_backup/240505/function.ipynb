{
 "cells": [
  {
   "cell_type": "code",
   "execution_count": 8,
   "id": "8f6cb8f8-a3f2-412d-ab94-4b0006ead61b",
   "metadata": {},
   "outputs": [
    {
     "name": "stdout",
     "output_type": "stream",
     "text": [
      "13\n"
     ]
    }
   ],
   "source": [
    "def myAdd(x,y):\n",
    "    awnser = 10 * x + y\n",
    "    return awnser\n",
    "print(myAdd(1,3))"
   ]
  },
  {
   "cell_type": "code",
   "execution_count": 9,
   "id": "871c86d6-440f-4cee-b2e9-149196660de9",
   "metadata": {},
   "outputs": [
    {
     "data": {
      "text/plain": [
       "60"
      ]
     },
     "execution_count": 9,
     "metadata": {},
     "output_type": "execute_result"
    }
   ],
   "source": [
    "a = myAdd(5,10)\n",
    "a"
   ]
  },
  {
   "cell_type": "code",
   "execution_count": 10,
   "id": "3c55282b-238e-4dc5-8a8d-b191f2e85148",
   "metadata": {},
   "outputs": [
    {
     "data": {
      "text/plain": [
       "220"
      ]
     },
     "execution_count": 10,
     "metadata": {},
     "output_type": "execute_result"
    }
   ],
   "source": [
    "b = myAdd(y=20, x=20)\n",
    "b"
   ]
  },
  {
   "cell_type": "code",
   "execution_count": 19,
   "id": "c15794b1-2fdf-4fe5-a774-5e4c82c39f34",
   "metadata": {},
   "outputs": [
    {
     "name": "stdout",
     "output_type": "stream",
     "text": [
      "7\n"
     ]
    }
   ],
   "source": [
    "def myMinus(x, y=3):\n",
    "    awnser = 10 * x - y\n",
    "    return awnser\n",
    "print(myMinus(1))"
   ]
  },
  {
   "cell_type": "code",
   "execution_count": 23,
   "id": "ff1ed0c8-b028-4d1e-a53d-332187fdaa57",
   "metadata": {},
   "outputs": [
    {
     "data": {
      "text/plain": [
       "9"
      ]
     },
     "execution_count": 23,
     "metadata": {},
     "output_type": "execute_result"
    }
   ],
   "source": [
    "# 튜플\n",
    "def addProd(x,y):\n",
    "    add = x+y\n",
    "    prod = x*y\n",
    "    return add,prod\n",
    "d = addProd(3,6)\n",
    "d"
   ]
  },
  {
   "cell_type": "code",
   "execution_count": 24,
   "id": "f943458d-955c-4274-b391-7b8f64158203",
   "metadata": {},
   "outputs": [],
   "source": [
    "add, prod = addProd(3,5)"
   ]
  },
  {
   "cell_type": "code",
   "execution_count": 25,
   "id": "1fb7b5d9-b2ef-4955-9fe9-e62778cbe885",
   "metadata": {},
   "outputs": [
    {
     "data": {
      "text/plain": [
       "8"
      ]
     },
     "execution_count": 25,
     "metadata": {},
     "output_type": "execute_result"
    }
   ],
   "source": [
    "add"
   ]
  },
  {
   "cell_type": "code",
   "execution_count": 26,
   "id": "530716c3-906a-47b3-8a45-d5b82c9eec15",
   "metadata": {},
   "outputs": [
    {
     "data": {
      "text/plain": [
       "15"
      ]
     },
     "execution_count": 26,
     "metadata": {},
     "output_type": "execute_result"
    }
   ],
   "source": [
    "prod"
   ]
  },
  {
   "cell_type": "code",
   "execution_count": 28,
   "id": "9dce947c-224c-4410-82c2-123deff46374",
   "metadata": {},
   "outputs": [
    {
     "name": "stdout",
     "output_type": "stream",
     "text": [
      "hello\n",
      "world\n"
     ]
    }
   ],
   "source": [
    "# 전역변수\n",
    "global_value = \"hello\"\n",
    "\n",
    "def world():\n",
    "    # 로컬 변수\n",
    "    global_value = \"world\"\n",
    "    print(global_value)\n",
    "    return\n",
    "print(global_value)\n",
    "world()\n"
   ]
  },
  {
   "cell_type": "code",
   "execution_count": 29,
   "id": "6a12ccf4-e571-4710-bc20-1d750a029d24",
   "metadata": {},
   "outputs": [
    {
     "name": "stdout",
     "output_type": "stream",
     "text": [
      "hello\n",
      "hello\n"
     ]
    }
   ],
   "source": [
    "v = \"안녕\"\n",
    "\n",
    "def world():\n",
    "    global v\n",
    "    v = \"hello\"\n",
    "    print(v)\n",
    "    return \n",
    "\n",
    "world()\n",
    "print(v)"
   ]
  }
 ],
 "metadata": {
  "kernelspec": {
   "display_name": "Python 3 (ipykernel)",
   "language": "python",
   "name": "python3"
  },
  "language_info": {
   "codemirror_mode": {
    "name": "ipython",
    "version": 3
   },
   "file_extension": ".py",
   "mimetype": "text/x-python",
   "name": "python",
   "nbconvert_exporter": "python",
   "pygments_lexer": "ipython3",
   "version": "3.12.3"
  }
 },
 "nbformat": 4,
 "nbformat_minor": 5
}
