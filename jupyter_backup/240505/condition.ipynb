{
 "cells": [
  {
   "cell_type": "code",
   "execution_count": 4,
   "id": "f481f127-a3b7-49d1-b5d8-ee25c6d53a53",
   "metadata": {},
   "outputs": [
    {
     "name": "stdout",
     "output_type": "stream",
     "text": [
      "False 은 false\n"
     ]
    }
   ],
   "source": [
    "isTrue = False\n",
    "\n",
    "if isTrue:\n",
    "    print(f\"{isTrue} 은 true\")\n",
    "else:\n",
    "    print(f\"{isTrue} 은 false\")"
   ]
  },
  {
   "cell_type": "code",
   "execution_count": 5,
   "id": "fa9ec267-c499-42c2-8536-93794cf44e2f",
   "metadata": {},
   "outputs": [
    {
     "name": "stdout",
     "output_type": "stream",
     "text": [
      "참\n"
     ]
    }
   ],
   "source": [
    "if(10 > 1) or (11 == 11):\n",
    "    print(\"참\")"
   ]
  },
  {
   "cell_type": "code",
   "execution_count": 12,
   "id": "5bef70dc-eb57-4369-a76b-3473a42423e8",
   "metadata": {},
   "outputs": [],
   "source": [
    "if(10 >= 1) and (11 != 11):\n",
    "    print(\"참\")"
   ]
  },
  {
   "cell_type": "code",
   "execution_count": 13,
   "id": "d1762ec7-1ad3-427a-a5c3-5403be8b3ff0",
   "metadata": {},
   "outputs": [
    {
     "name": "stdout",
     "output_type": "stream",
     "text": [
      "참\n"
     ]
    }
   ],
   "source": [
    "if not \"\":\n",
    "    print(\"참\")"
   ]
  },
  {
   "cell_type": "code",
   "execution_count": null,
   "id": "d6a1c0f7-98a1-4841-a896-e322ac6947af",
   "metadata": {},
   "outputs": [],
   "source": []
  },
  {
   "cell_type": "code",
   "execution_count": null,
   "id": "7d7b3770-ae4a-41a3-a244-7c23ff9ccabe",
   "metadata": {},
   "outputs": [],
   "source": []
  },
  {
   "cell_type": "code",
   "execution_count": null,
   "id": "ae218c1f-eceb-4a0d-b1e1-9439c5584f6a",
   "metadata": {},
   "outputs": [],
   "source": []
  },
  {
   "cell_type": "code",
   "execution_count": null,
   "id": "3c46f7c5-36e9-444e-bcd6-825397e742d5",
   "metadata": {},
   "outputs": [],
   "source": []
  },
  {
   "cell_type": "code",
   "execution_count": null,
   "id": "7165db79-e4b6-4e3d-86b1-77737ff65d3c",
   "metadata": {},
   "outputs": [],
   "source": []
  },
  {
   "cell_type": "code",
   "execution_count": null,
   "id": "11c5d874-9e71-42e2-b598-2857630239a6",
   "metadata": {},
   "outputs": [],
   "source": []
  }
 ],
 "metadata": {
  "kernelspec": {
   "display_name": "Python 3 (ipykernel)",
   "language": "python",
   "name": "python3"
  },
  "language_info": {
   "codemirror_mode": {
    "name": "ipython",
    "version": 3
   },
   "file_extension": ".py",
   "mimetype": "text/x-python",
   "name": "python",
   "nbconvert_exporter": "python",
   "pygments_lexer": "ipython3",
   "version": "3.12.3"
  }
 },
 "nbformat": 4,
 "nbformat_minor": 5
}
