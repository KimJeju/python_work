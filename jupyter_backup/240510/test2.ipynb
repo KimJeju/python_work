{
 "cells": [
  {
   "cell_type": "code",
   "execution_count": 5,
   "id": "a29aeae3-e3b8-418d-a27c-4409a5d8ef7d",
   "metadata": {},
   "outputs": [
    {
     "data": {
      "text/plain": [
       "['hello', 'world']"
      ]
     },
     "execution_count": 5,
     "metadata": {},
     "output_type": "execute_result"
    }
   ],
   "source": [
    "names = ['hello','world']\n",
    "names"
   ]
  },
  {
   "cell_type": "code",
   "execution_count": 6,
   "id": "4cba639e-abc2-4318-ae01-415f743a61ad",
   "metadata": {},
   "outputs": [
    {
     "data": {
      "text/plain": [
       "'world'"
      ]
     },
     "execution_count": 6,
     "metadata": {},
     "output_type": "execute_result"
    }
   ],
   "source": [
    "names[1]"
   ]
  },
  {
   "cell_type": "code",
   "execution_count": 8,
   "id": "0d82de1d-e51f-4847-9832-f79b99ff4229",
   "metadata": {},
   "outputs": [
    {
     "data": {
      "text/plain": [
       "['aaa', 'world']"
      ]
     },
     "execution_count": 8,
     "metadata": {},
     "output_type": "execute_result"
    }
   ],
   "source": [
    "names[0] = \"aaa\"\n",
    "names"
   ]
  },
  {
   "cell_type": "code",
   "execution_count": 9,
   "id": "7babd912-70f6-4f60-bc96-7b0b544d0f3f",
   "metadata": {},
   "outputs": [],
   "source": [
    "names.remove(\"aaa\")"
   ]
  },
  {
   "cell_type": "code",
   "execution_count": 10,
   "id": "4fdb1508-d9c4-49e2-a770-104ddfbad6eb",
   "metadata": {},
   "outputs": [
    {
     "data": {
      "text/plain": [
       "['world']"
      ]
     },
     "execution_count": 10,
     "metadata": {},
     "output_type": "execute_result"
    }
   ],
   "source": [
    "names"
   ]
  },
  {
   "cell_type": "code",
   "execution_count": 13,
   "id": "3c4bc4f7-4418-4297-abd6-84cedfe9f4b0",
   "metadata": {},
   "outputs": [
    {
     "data": {
      "text/plain": [
       "{'aa123': 'bbb', 'hello': 'world'}"
      ]
     },
     "execution_count": 13,
     "metadata": {},
     "output_type": "execute_result"
    }
   ],
   "source": [
    "dicData = {\"aa123\":\"bbb\", \"hello\":\"world\"}\n",
    "dicData"
   ]
  },
  {
   "cell_type": "code",
   "execution_count": 14,
   "id": "a93fca71-be1c-4453-923f-e7d381f9b517",
   "metadata": {},
   "outputs": [
    {
     "data": {
      "text/plain": [
       "'bbb'"
      ]
     },
     "execution_count": 14,
     "metadata": {},
     "output_type": "execute_result"
    }
   ],
   "source": [
    "dicData[\"aa123\"]"
   ]
  },
  {
   "cell_type": "code",
   "execution_count": 15,
   "id": "dab747ac-9416-4112-a085-977652e08c00",
   "metadata": {},
   "outputs": [
    {
     "data": {
      "text/plain": [
       "'Not'"
      ]
     },
     "execution_count": 15,
     "metadata": {},
     "output_type": "execute_result"
    }
   ],
   "source": [
    "dicData[\"hello\"] = \"Not\"\n",
    "dicData[\"hello\"]"
   ]
  },
  {
   "cell_type": "code",
   "execution_count": 17,
   "id": "c1062e61-5436-486e-b571-5a9bac5367b9",
   "metadata": {},
   "outputs": [
    {
     "data": {
      "text/plain": [
       "{'aa123': 'bbb', 'hello': 'Not', 'dd1234': 'test'}"
      ]
     },
     "execution_count": 17,
     "metadata": {},
     "output_type": "execute_result"
    }
   ],
   "source": [
    "dicData[\"dd1234\"] = \"test\"\n",
    "dicData"
   ]
  },
  {
   "cell_type": "code",
   "execution_count": 20,
   "id": "d381e907-ddd4-43f5-a128-44fde436fb26",
   "metadata": {},
   "outputs": [
    {
     "data": {
      "text/plain": [
       "['world', 'add list']"
      ]
     },
     "execution_count": 20,
     "metadata": {},
     "output_type": "execute_result"
    }
   ],
   "source": [
    "names.append(\"add list\")\n",
    "names"
   ]
  },
  {
   "cell_type": "code",
   "execution_count": 21,
   "id": "c08d2954-bf12-4fac-a3cb-5658e6b09b69",
   "metadata": {},
   "outputs": [
    {
     "data": {
      "text/plain": [
       "{'aa123': 'bbb', 'dd1234': 'test'}"
      ]
     },
     "execution_count": 21,
     "metadata": {},
     "output_type": "execute_result"
    }
   ],
   "source": [
    "del dicData[\"hello\"]\n",
    "dicData"
   ]
  },
  {
   "cell_type": "code",
   "execution_count": null,
   "id": "8cfd4bfd-b467-479e-a016-de303b2525ff",
   "metadata": {},
   "outputs": [],
   "source": []
  },
  {
   "cell_type": "code",
   "execution_count": null,
   "id": "5fc0d707-65db-4bfe-92ea-fe08dac37dfc",
   "metadata": {},
   "outputs": [],
   "source": []
  },
  {
   "cell_type": "code",
   "execution_count": null,
   "id": "de4e7920-4633-488f-9139-5949e79d2040",
   "metadata": {},
   "outputs": [],
   "source": []
  },
  {
   "cell_type": "code",
   "execution_count": null,
   "id": "c86f1550-4218-442f-906a-39db13aa0d67",
   "metadata": {},
   "outputs": [],
   "source": []
  }
 ],
 "metadata": {
  "kernelspec": {
   "display_name": "Python 3 (ipykernel)",
   "language": "python",
   "name": "python3"
  },
  "language_info": {
   "codemirror_mode": {
    "name": "ipython",
    "version": 3
   },
   "file_extension": ".py",
   "mimetype": "text/x-python",
   "name": "python",
   "nbconvert_exporter": "python",
   "pygments_lexer": "ipython3",
   "version": "3.12.3"
  }
 },
 "nbformat": 4,
 "nbformat_minor": 5
}
